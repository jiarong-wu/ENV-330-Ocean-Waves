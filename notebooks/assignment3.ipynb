{
 "cells": [
  {
   "cell_type": "code",
   "execution_count": null,
   "id": "b43e0406",
   "metadata": {},
   "outputs": [],
   "source": []
  },
  {
   "cell_type": "markdown",
   "id": "4cfc5e0d",
   "metadata": {},
   "source": [
    "# Part 3: preparation for next time - wave spectrum"
   ]
  },
  {
   "cell_type": "code",
   "execution_count": null,
   "id": "2295746f",
   "metadata": {},
   "outputs": [],
   "source": [
    "# compute PSD and extract peak wavenumer\n",
    "fig, ax = plt.subplots()\n",
    "#ax.set_ylim([5e-6, 1e5])\n",
    "\n",
    "\n",
    "fps=sample_rate  # sampling frequency - in minutes??? change.\n",
    "# compute spectrum\n",
    "fft = np.fft.rfft(z, n=len(z)) # note: mean already removed from signal\n",
    "freq = np.fft.rfftfreq(len(z), d=1/fps)\n",
    "\n",
    "kind = 'PSD'\n",
    "if kind == 'amplitude':\n",
    "    r_fft = np.abs(fft)\n",
    "if kind == 'power':\n",
    "    r_fft = np.abs(fft)**2\n",
    "if kind == 'PSD':\n",
    "    r_fft = (np.abs(fft)**2)*2/fps/len(fft)  # normalize by frequency bin width\n",
    "# r_fft_norm = r_fft/len(r_fft) #? check\n",
    "# plot spectrum:\n",
    "ax.plot(freq, r_fft, linewidth=.5)  #CHECK NORMALIZATION - im doing something incorrect \n",
    "\n",
    "ax.set_xlabel('f (Hz)')\n",
    "ax.set_yscale('log')\n",
    "ax.set_xscale('log')\n",
    "ax.set_ylabel('{}'.format(kind))\n",
    "ax.set_title('wave spectrum: buoy 5 min') #.format(wave,wind))\n",
    "\n",
    "ax.set_xlim([0.02,1])\n",
    "ax.set_ylim([0.001,100])\n",
    "\n",
    "plt.show()\n",
    "\n",
    "# smooth spectrum by averaging signal in windows:\n",
    "#freq_win, fft_win = sig.welch(z, fps, window='hann', scaling='density', nperseg=1024) \n",
    "#ax.plot(freq_win, fft_win, 'C1', linewidth=1.5)  # window correction factor 1.5?\n",
    "\n",
    "#find peaks of smoothed spectrum and estimate peak frequency\n",
    "# peaks_i = sig.find_peaks(fft_win)\n",
    "# f_p = freq_win[peaks_i[0][np.where(fft_win[peaks_i[0]] == fft_win[peaks_i[0]].max())[0][0]]]\n",
    "# print('peak frequency = {}'.format(f_p))\n",
    "\n",
    "# filter and smooth\n",
    "# test also with different input signal window\n",
    "# integrate to find a significant wave height estimate"
   ]
  }
 ],
 "metadata": {
  "kernelspec": {
   "display_name": "env330 [~/opt/export/course/env330/anaconda3/envs/env330/]",
   "language": "python",
   "name": "conda_env330"
  },
  "language_info": {
   "codemirror_mode": {
    "name": "ipython",
    "version": 3
   },
   "file_extension": ".py",
   "mimetype": "text/x-python",
   "name": "python",
   "nbconvert_exporter": "python",
   "pygments_lexer": "ipython3",
   "version": "3.11.0"
  }
 },
 "nbformat": 4,
 "nbformat_minor": 5
}
