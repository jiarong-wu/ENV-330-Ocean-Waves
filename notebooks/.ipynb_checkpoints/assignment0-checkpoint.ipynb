{
 "cells": [
  {
   "cell_type": "markdown",
   "metadata": {},
   "source": [
    "# Assignment 0: Introduction to Python and the Jupyter Notebook Environment\n",
    "\n",
    "#### Skills\n",
    "1. Work with Juypter notebooks (cell types)\n",
    "2. Python basics - data type\n",
    "3. Some useful data structures\n",
    "    - lists    \n",
    "    - numpy arrays\n",
    "    - dictionaries\n",
    "4. Basic plotting functions\n",
    "5. Further reading\n",
    "\n",
    "#### Concepts\n",
    "* Analyzing and visualizing data\n",
    "\n",
    "## Welcome to ENV 330 / MAE 330\n",
    "\n",
    "_You are looking at [Jupyter Notebook](http://jupyter-notebook.readthedocs.io/en/latest/notebook.html)_.  A Jupyter notebook (formerly known as an iPython notebook) is a lightweight environment for describing and running blocks of code in a [variety of languages](https://github.com/jupyter/jupyter/wiki/Jupyter-kernels).  Over the last few years, it has become a popular tool in the scientific community for its use in data analysis and exploration.  Throughout this course we'll be using notebooks to look at data both from observations and numerical models."
   ]
  },
  {
   "cell_type": "markdown",
   "metadata": {
    "collapsed": true
   },
   "source": [
    "## 1. Cell types\n",
    "A key feature of Jupyter notebooks is that they support different cell types.  A \"cell\" in a Jupyter notebook is a field in which one can enter text.  To enter text in a cell, one simply needs to click inside it to make it active.  There are two types of cells:\n",
    "\n",
    "1. Markdown cells (like this cell itself)\n",
    "2. Code cells."
   ]
  },
  {
   "cell_type": "markdown",
   "metadata": {},
   "source": [
    "### Markdown cells\n",
    "Markdown cells are meant for displaying text.  Markdown is a way of indicating basic formatting aspects in plain text form.  A full description of its syntax (with examples) can be found [here.](https://daringfireball.net/projects/markdown/syntax) You can also double click on any Markdown cell in this notebook to see the text that produced it.  \n",
    "\n",
    "Things Markdown supports are multi-level headings, bulleted and numbered lists, links, images, and font styles (e.g. **bold** or *italic*).  Jupyter notebooks also include MathJax support, so you can type LaTeX-style equations.  E.g. \n",
    "$$y = mx + b$$\n",
    "In practice, it can often be helpful to use Markdown cells to provide background for the data analysis you are doing (e.g. to provide links to scientific papers, or describe the math behind a certain kind of analysis)."
   ]
  },
  {
   "cell_type": "markdown",
   "metadata": {},
   "source": [
    "### Code cells\n",
    "Code cells are what make the Jupyter notebook a powerful data analysis tool.  They enable one to write multi-line snippets of code, which can be executed one at a time, and in any order.\n",
    "\n",
    "After running a cell, the variables created in the cell will now be accessible to all other cells in the notebook."
   ]
  },
  {
   "cell_type": "markdown",
   "metadata": {},
   "source": [
    "### Cell operations\n",
    "- To create a cell: In the menu bar, click on \"Insert\".\n",
    "- Command mode and edit mode: Command mode binds the keyboard to notebook level actions, indicated by a blue left margin. Edit mode allows one to work on the text in a cell, indicated by a green border.\n",
    "- Going from command mode to edit mode: Click anywhere in the cell or press \"Enter\".\n",
    "- Going from edit mode to command mode: Click on cell border or press \"ESC\".\n",
    "- To navigate among cells: Use Up and Down keys.\n",
    "- To run a cell (i.e. the one you are typing in) you hold down the \"Control\" (windows) or \"Shift\" (mac) key and then press \"Enter\" key, or simply click on the \"Run\" button in the toolbar above. "
   ]
  },
  {
   "cell_type": "code",
   "execution_count": null,
   "metadata": {
    "scrolled": false
   },
   "outputs": [],
   "source": [
    "print('Hello world!')"
   ]
  },
  {
   "cell_type": "markdown",
   "metadata": {},
   "source": [
    "To see all the interactive variables, we can use the [magic command](https://ipython.readthedocs.io/en/stable/interactive/magics.html) `%whos`."
   ]
  },
  {
   "cell_type": "code",
   "execution_count": null,
   "metadata": {
    "scrolled": true
   },
   "outputs": [],
   "source": [
    "%whos"
   ]
  },
  {
   "cell_type": "markdown",
   "metadata": {},
   "source": [
    "## 2.  Python basics - data type"
   ]
  },
  {
   "cell_type": "markdown",
   "metadata": {},
   "source": [
    "Python is a dynamically typed language; therefore it is very straightforward to assign data to a variable (there is no need to specify the data type). That is to say, Python has no command for declaring a variable; a variable is created the moment you first assign a value to it.\n",
    "\n",
    "Create the following three variables:\n",
    "\n",
    "`a = 2` \n",
    "\n",
    "`b = 4.0`\n",
    "\n",
    "`c = 'c'`"
   ]
  },
  {
   "cell_type": "code",
   "execution_count": null,
   "metadata": {},
   "outputs": [],
   "source": [
    "a = \n",
    "b = \n",
    "c = "
   ]
  },
  {
   "cell_type": "markdown",
   "metadata": {},
   "source": [
    "Note that after executing the cell above, all other cells now have access to the variables \"a\", \"b\" and \"c\".\n",
    "\n",
    "You can check the value of a variable by executing it alone in a cell. You can also check the datatype using the `type()` command. \n",
    "\n",
    "What are the datatypes of `a`, `b`, and `c`? "
   ]
  },
  {
   "cell_type": "code",
   "execution_count": null,
   "metadata": {},
   "outputs": [],
   "source": [
    "type(a)"
   ]
  },
  {
   "cell_type": "code",
   "execution_count": null,
   "metadata": {},
   "outputs": [],
   "source": [
    "type(b)"
   ]
  },
  {
   "cell_type": "code",
   "execution_count": null,
   "metadata": {},
   "outputs": [],
   "source": [
    "type(c)"
   ]
  },
  {
   "cell_type": "markdown",
   "metadata": {},
   "source": [
    "Now create a new variable:\n",
    "\n",
    "`d = a + 2`\n",
    "\n",
    "then print the result"
   ]
  },
  {
   "cell_type": "code",
   "execution_count": null,
   "metadata": {},
   "outputs": [],
   "source": [
    "d = "
   ]
  },
  {
   "cell_type": "code",
   "execution_count": null,
   "metadata": {},
   "outputs": [],
   "source": [
    "print(d)"
   ]
  },
  {
   "cell_type": "markdown",
   "metadata": {},
   "source": [
    "## 3.  Python data structures\n",
    "Some fundamental Python data structures that will be of use to us in this course are:\n",
    "- Lists\n",
    "- `Numpy` arrays\n",
    "- Dictionaries"
   ]
  },
  {
   "cell_type": "markdown",
   "metadata": {},
   "source": [
    "### 3.1 Lists\n",
    "Lists store *ordered* sequences of objects. The objects need not be of the same type (but often they will be).  See the following two examples of lists below."
   ]
  },
  {
   "cell_type": "code",
   "execution_count": null,
   "metadata": {},
   "outputs": [],
   "source": [
    "list_a = ['a', 'b', 'c', 'd'] # list of strings\n",
    "list_b = ['a', 2, '🤪', list_a] # mixed list of strings, and integers and a nested list\n",
    "\n",
    "# Note that comments can be inserted into a codeblock using the '#' symbol. \n",
    "# This is a good way to document your work for future reference. "
   ]
  },
  {
   "cell_type": "markdown",
   "metadata": {},
   "source": [
    "One can iterate over items in a list using a `for` loop, but\n",
    "watch out for indentations!"
   ]
  },
  {
   "cell_type": "code",
   "execution_count": null,
   "metadata": {},
   "outputs": [],
   "source": [
    "for item in list_b:\n",
    "    print(item) # notice this line is indented"
   ]
  },
  {
   "cell_type": "markdown",
   "metadata": {},
   "source": [
    "One can also access specific elements of a list using integer indexes \n",
    "\n",
    "**Note:** Python is \"zero-indexed\" meaning that the first element of the list is at index 0, (this will likely be very important in the future!) \n",
    "\n",
    "Use indexing to print each element of `list_a`"
   ]
  },
  {
   "cell_type": "code",
   "execution_count": null,
   "metadata": {},
   "outputs": [],
   "source": [
    "list_a[0]"
   ]
  },
  {
   "cell_type": "code",
   "execution_count": null,
   "metadata": {},
   "outputs": [],
   "source": [
    "list_a[1]"
   ]
  },
  {
   "cell_type": "code",
   "execution_count": null,
   "metadata": {},
   "outputs": [],
   "source": [
    "list_a[-1]"
   ]
  },
  {
   "cell_type": "code",
   "execution_count": null,
   "metadata": {
    "scrolled": true
   },
   "outputs": [],
   "source": [
    "list_a[-2]"
   ]
  },
  {
   "cell_type": "markdown",
   "metadata": {},
   "source": [
    "`list_a[i:j]` means that slicing index starts from i and ends at j, but not including j.\n",
    "\n",
    "Call a slice of `list_a`"
   ]
  },
  {
   "cell_type": "code",
   "execution_count": null,
   "metadata": {},
   "outputs": [],
   "source": [
    "list_a[1:3]"
   ]
  },
  {
   "cell_type": "markdown",
   "metadata": {},
   "source": [
    "An alternative way of iterating over the list using a `for` loop would be using an integer index and `range`."
   ]
  },
  {
   "cell_type": "code",
   "execution_count": null,
   "metadata": {},
   "outputs": [],
   "source": [
    "range(4)"
   ]
  },
  {
   "cell_type": "code",
   "execution_count": null,
   "metadata": {},
   "outputs": [],
   "source": [
    "for i in range(4):\n",
    "    print(list_a[i])"
   ]
  },
  {
   "cell_type": "markdown",
   "metadata": {},
   "source": [
    "<div class=\"alert alert-info\"><h1>Exercise 1</h1></div>\n",
    "\n",
    "1. Create a cell below \n",
    "2. Display the first 2 elements of list_a\n",
    "\n"
   ]
  },
  {
   "cell_type": "code",
   "execution_count": null,
   "metadata": {
    "scrolled": false
   },
   "outputs": [],
   "source": []
  },
  {
   "cell_type": "markdown",
   "metadata": {},
   "source": [
    "Other operations one can do with lists can be found in the [Python documentation](https://docs.python.org/3/tutorial/datastructures.html)."
   ]
  },
  {
   "cell_type": "markdown",
   "metadata": {},
   "source": [
    "### 3.2  `NumPy` and `NumPy` arrays\n",
    "\n",
    "`NumPy` is a numerical array library for mathematical operations. It is a fundamental package for scientific computing with Python. It contains among other things:\n",
    "\n",
    "- `NumPy` arrays that can be used to store N-dimensional tables.\n",
    "- Functions and useful linear algebra\n",
    "\n",
    "`NumPy` is not part of the standard library of Python; therefore we need to import it using an import statement."
   ]
  },
  {
   "cell_type": "code",
   "execution_count": null,
   "metadata": {},
   "outputs": [],
   "source": [
    "import numpy as np"
   ]
  },
  {
   "cell_type": "markdown",
   "metadata": {},
   "source": [
    "There are various ways to create an array. Below listed useful ones:\n",
    "- `np.zeros`, `np.ones`\n",
    "- `np.linspace`, `np.arange`\n",
    "- Create from a python list"
   ]
  },
  {
   "cell_type": "markdown",
   "metadata": {},
   "source": [
    "We can create an empty array of zeros by using the `np.zeros` command (say if we wanted to create a blank one to assign values to later). Similarly, `np.ones` create an array of ones."
   ]
  },
  {
   "cell_type": "code",
   "execution_count": null,
   "metadata": {},
   "outputs": [],
   "source": [
    "z = np.zeros(5)\n",
    "z"
   ]
  },
  {
   "cell_type": "markdown",
   "metadata": {},
   "source": [
    "We can also use the function `np.linspace`, which linearly interpolates values between the specified starting and end points. The syntax is \n",
    "```\n",
    "np.linspace(start, stop, number)\n",
    "```"
   ]
  },
  {
   "cell_type": "code",
   "execution_count": null,
   "metadata": {},
   "outputs": [],
   "source": [
    "x = np.linspace(2, 3, 5)\n",
    "x"
   ]
  },
  {
   "cell_type": "markdown",
   "metadata": {},
   "source": [
    "We can also use `np.arange` to create an array. The syntax is \n",
    "```\n",
    "np.arange(start, stop, step)\n",
    "```"
   ]
  },
  {
   "cell_type": "code",
   "execution_count": null,
   "metadata": {
    "scrolled": true
   },
   "outputs": [],
   "source": [
    "np.arange(1,10,1)"
   ]
  },
  {
   "cell_type": "markdown",
   "metadata": {},
   "source": [
    "To create a simple 1D numpy array, we can use a list:"
   ]
  },
  {
   "cell_type": "code",
   "execution_count": null,
   "metadata": {},
   "outputs": [],
   "source": [
    "arr = np.array([1,2,3])\n",
    "arr"
   ]
  },
  {
   "cell_type": "markdown",
   "metadata": {},
   "source": [
    "To create a simple 2D numpy array, we can use a nested list:"
   ]
  },
  {
   "cell_type": "code",
   "execution_count": null,
   "metadata": {},
   "outputs": [],
   "source": [
    "arr = np.array([[1, 2, 5],\n",
    "                [3, 4, 8]])\n",
    "arr"
   ]
  },
  {
   "cell_type": "markdown",
   "metadata": {},
   "source": [
    "This array consists of two rows and three columns:"
   ]
  },
  {
   "cell_type": "code",
   "execution_count": null,
   "metadata": {},
   "outputs": [],
   "source": [
    "arr.shape"
   ]
  },
  {
   "cell_type": "markdown",
   "metadata": {},
   "source": [
    "We can index a 2D array using integer indexes:"
   ]
  },
  {
   "cell_type": "code",
   "execution_count": null,
   "metadata": {},
   "outputs": [],
   "source": [
    "arr[0,1]"
   ]
  },
  {
   "cell_type": "markdown",
   "metadata": {},
   "source": [
    "You can use slices to index rows and columns separately; for instance if we wanted to select just the first (or last) two columns of the array we could write:"
   ]
  },
  {
   "cell_type": "code",
   "execution_count": null,
   "metadata": {},
   "outputs": [],
   "source": [
    "arr[:, 0:2]"
   ]
  },
  {
   "cell_type": "code",
   "execution_count": null,
   "metadata": {
    "scrolled": false
   },
   "outputs": [],
   "source": [
    "arr[:, -2:]"
   ]
  },
  {
   "cell_type": "markdown",
   "metadata": {},
   "source": [
    "Many `numpy` functions can be passed an \"axis\" argument; this specifies a particular axis of the array to execute the function along.  For example, using our 2D array, we can not only sum across the entire array but also along each axis:"
   ]
  },
  {
   "cell_type": "code",
   "execution_count": null,
   "metadata": {},
   "outputs": [],
   "source": [
    "np.sum(arr)"
   ]
  },
  {
   "cell_type": "code",
   "execution_count": null,
   "metadata": {},
   "outputs": [],
   "source": [
    "np.sum(arr, axis=0)"
   ]
  },
  {
   "cell_type": "code",
   "execution_count": null,
   "metadata": {},
   "outputs": [],
   "source": [
    "np.sum(arr, axis=1)"
   ]
  },
  {
   "cell_type": "markdown",
   "metadata": {},
   "source": [
    "The `numpy` library implements a huge number of functions that one can use on arrays.  We'll get a taste for a few of them later on, but more detail can be found in the [`numpy` documentation](https://docs.scipy.org/doc/numpy-1.12.0/reference/)."
   ]
  },
  {
   "cell_type": "markdown",
   "metadata": {},
   "source": [
    "<div class=\"alert alert-info\"><h1>Exercise 2</h1></div>\n",
    "\n",
    "1. Create a cell below \n",
    "2. Create an array called `x` of 20 equally spaced values between 0 and 12. (hint: try linspace or np.arange)\n",
    "3. Using a for loop and the sum function, to create a new variable `y` that computes the cumulative sum of x (i.e. an array of same dimension as x in which the nth element is the sum of the first n elements of x). \n",
    "\n"
   ]
  },
  {
   "cell_type": "code",
   "execution_count": null,
   "metadata": {},
   "outputs": [],
   "source": []
  },
  {
   "cell_type": "code",
   "execution_count": null,
   "metadata": {},
   "outputs": [],
   "source": []
  },
  {
   "cell_type": "markdown",
   "metadata": {},
   "source": [
    "### 3.3 Dictionaries\n",
    "\n",
    "In Python, a dictionary is an *unordered* collection of items. \"Dicts\" or \"Dictionaries\" map a key to a value. A usual case is to describe a collection of related objects with string-based keys.  For example:"
   ]
  },
  {
   "cell_type": "code",
   "execution_count": null,
   "metadata": {},
   "outputs": [],
   "source": [
    "states = {'NJ': 'New Jersey', 'NY': 'New York', 'PA': 'Pennsylvania'}"
   ]
  },
  {
   "cell_type": "markdown",
   "metadata": {},
   "source": [
    "We could use the `.keys()` method to display all the keys in a dictionary."
   ]
  },
  {
   "cell_type": "code",
   "execution_count": null,
   "metadata": {},
   "outputs": [],
   "source": [
    "states.keys()"
   ]
  },
  {
   "cell_type": "code",
   "execution_count": null,
   "metadata": {
    "scrolled": true
   },
   "outputs": [],
   "source": [
    "states['NJ']"
   ]
  },
  {
   "cell_type": "markdown",
   "metadata": {},
   "source": [
    "Values in a dictionary can be of any data type, e.g., interger, string, or even a dictionary!"
   ]
  },
  {
   "cell_type": "code",
   "execution_count": null,
   "metadata": {},
   "outputs": [],
   "source": [
    "## Example\n",
    "NJ = {'name': 'New Jersey', 'population': 9.006}\n",
    "states['NJ'] = NJ"
   ]
  },
  {
   "cell_type": "markdown",
   "metadata": {},
   "source": [
    "A nested dictionary is a dictionary inside a dictionary. \n",
    "\n",
    "Using the now-updated `states` dictionary, access the NJ population. "
   ]
  },
  {
   "cell_type": "code",
   "execution_count": null,
   "metadata": {},
   "outputs": [],
   "source": [
    "states['NJ']['population']"
   ]
  },
  {
   "cell_type": "markdown",
   "metadata": {},
   "source": [
    "Again one can find more information on Python dictionaries in the [documentation](https://docs.python.org/3/tutorial/datastructures.html?highlight=dictionaries#dictionaries)."
   ]
  },
  {
   "cell_type": "markdown",
   "metadata": {},
   "source": [
    "<div class=\"alert alert-info\"><h1>Exercise 3</h1></div>\n",
    "\n",
    "1. Create a cell below \n",
    "2. Create an empty dictionary called \"classmates\"\n",
    "3. Pick three or more categories (e.g. Name, age, height, homestate, class year... etc)\n",
    "4. Go around the room and meet your classmates. For each class mate, make a dictionary following the NJ example above.\n",
    "5. Add each individuals dictionary to your \"classmates\" dictionary to create a nested dictionary \n",
    "\n",
    "**Note: Make sure you use consistent capitalization and punctuation for all entries!**"
   ]
  },
  {
   "cell_type": "code",
   "execution_count": null,
   "metadata": {},
   "outputs": [],
   "source": []
  },
  {
   "cell_type": "markdown",
   "metadata": {},
   "source": [
    "Once done, we can use the dictionary to easily answer questions about some of the people you interviewed. \n",
    "\n",
    "Below are examples: "
   ]
  },
  {
   "cell_type": "code",
   "execution_count": null,
   "metadata": {},
   "outputs": [],
   "source": [
    "## Compare the heights of two classmates\n",
    "name1 = \n",
    "name2 = \n",
    "\n",
    "classmates[name1]['height'] > classmates[name2]['height']"
   ]
  },
  {
   "cell_type": "code",
   "execution_count": null,
   "metadata": {},
   "outputs": [],
   "source": [
    "## Make a class roster list\n",
    "\n",
    "all_classmates = classmates.keys()\n",
    "\n",
    "namelist = []\n",
    "for key in all_classmates:\n",
    "    namelist.append(classmates[key]['name'])\n",
    "    \n",
    "print(namelist)"
   ]
  },
  {
   "cell_type": "code",
   "execution_count": null,
   "metadata": {},
   "outputs": [],
   "source": [
    "## Count the number of G5s using a list\n",
    "\n",
    "class_years = []\n",
    "for key in all_classmates:\n",
    "    class_years.append(classmates[key]['class_year'])\n",
    "    \n",
    "class_years.count('G5')\n",
    "    "
   ]
  },
  {
   "cell_type": "code",
   "execution_count": null,
   "metadata": {},
   "outputs": [],
   "source": [
    "## Find the mean age of the class using a numpy array\n",
    "\n",
    "all_ages = np.zeros(len(classmates.keys())) \n",
    "i=0\n",
    "for key in all_classmates:\n",
    "    all_ages[i] = classmates[key]['age']\n",
    "    i+=1\n",
    "    \n",
    "all_ages.mean()"
   ]
  },
  {
   "cell_type": "markdown",
   "metadata": {},
   "source": [
    "## 4. Plotting a time series\n",
    "Here we will introduce some more applications-driven examples.  Plotting in Python is typically done using the [`matplotlib`](https://matplotlib.org) library.  Again `matplotlib` is not part of the Python standard library so we will have to import it."
   ]
  },
  {
   "cell_type": "code",
   "execution_count": null,
   "metadata": {},
   "outputs": [],
   "source": [
    "import matplotlib.pyplot as plt\n",
    "import numpy as np # In principle we do not need to import numpy again since we have done it above,\n",
    "                   # but in case you skipped the cells above we will do it again here"
   ]
  },
  {
   "cell_type": "markdown",
   "metadata": {},
   "source": [
    "To plot a line we will use the [`plot`](https://matplotlib.org/api/_as_gen/matplotlib.axes.Axes.plot.html?highlight=plot#matplotlib.axes.Axes.plot) command."
   ]
  },
  {
   "cell_type": "code",
   "execution_count": null,
   "metadata": {},
   "outputs": [],
   "source": [
    "plt.plot([1,2,3],[3,2,5])"
   ]
  },
  {
   "cell_type": "markdown",
   "metadata": {},
   "source": [
    "As a basic example, we'll plot a family of sine curves using `matplotlib` to illustrate the basics of making a plot.  We'll plot:\n",
    "$$ y = \\sin(x - a) $$\n",
    "\n",
    "1. First, create some values for $x$.  To do so, try using the `linspace` command.\n",
    "\n",
    "2. Then, create the variable $y$ using the NumPy sine function, `np.sin()`"
   ]
  },
  {
   "cell_type": "code",
   "execution_count": null,
   "metadata": {},
   "outputs": [],
   "source": [
    "x = np.linspace(-10,10, 500)\n",
    "y = np.sin(x)"
   ]
  },
  {
   "cell_type": "markdown",
   "metadata": {},
   "source": [
    "To create an environment in which we can make a plot, we'll use the [`plt.subplots`](https://matplotlib.org/api/pyplot_api.html?highlight=subplots#matplotlib.pyplot.subplots) command.  This returns a [`Figure`](https://matplotlib.org/api/figure_api.html?highlight=figure#module-matplotlib.figure) object and single [`Axes`](https://matplotlib.org/api/axes_api.html#matplotlib.axes.Axes) object or list of `Axes` objects, depending on the two input arguments.  The first input argument is the number of rows of `Axes` and the second is the number of columns (so 2, 2 would represent four `Axes` objects).\n",
    "\n",
    "Using $x, y$ from above, you can see an example below of a two-panel plot."
   ]
  },
  {
   "cell_type": "code",
   "execution_count": null,
   "metadata": {},
   "outputs": [],
   "source": [
    "plt.plot(x,y)\n",
    "\n",
    "plt.xlabel('x')\n",
    "plt.ylabel('y')\n",
    "plt.title('y=sin(x)')"
   ]
  },
  {
   "cell_type": "markdown",
   "metadata": {},
   "source": [
    "Next we need to create the variable `a` that we can insert into our equation for $y$. However, if we want to test multiple `a` values at once, we can loop over a list of `a_values` and plot our function with each. See the example below. "
   ]
  },
  {
   "cell_type": "code",
   "execution_count": null,
   "metadata": {},
   "outputs": [],
   "source": [
    "a_values = np.array([1, 2, 3, 4]) \n",
    "\n",
    "for a in a_values:\n",
    "    y = np.sin(x - a)\n",
    "    plt.plot(x, y, label='a = {:0.2f}'.format(a))\n",
    "\n",
    "plt.xlim([-6,6])\n",
    "plt.ylim([-1.75, 1.75])\n",
    "plt.xlabel('x')\n",
    "plt.ylabel('y')\n",
    "plt.title(r'$y = sin(x-a)$')  # Use LaTex formatting to create an equation in the title\n",
    "\n",
    "plt.legend(loc='upper right', ncol=2, frameon=False)\n",
    "fig = plt.gcf() # This collects the actual figure after it's made"
   ]
  },
  {
   "cell_type": "markdown",
   "metadata": {
    "collapsed": true
   },
   "source": [
    "Note that adding a [legend](https://matplotlib.org/api/_as_gen/matplotlib.axes.Axes.legend.html?highlight=ax%20legend#matplotlib.axes.Axes.legend) requires setting a label in your plot command.\n",
    "\n",
    "For writing up projects it will be helpful to be able to make panel plots and save graphics produced using matplotlib.  This can be done using the [`Figure.savefig`](https://matplotlib.org/api/figure_api.html#matplotlib.figure.Figure.savefig) command in ``matplotlib``, or simply right click on the figure and save."
   ]
  },
  {
   "cell_type": "code",
   "execution_count": null,
   "metadata": {
    "scrolled": true
   },
   "outputs": [],
   "source": [
    "fig.savefig('example-fig.pdf')  # Change the extension of the file for a different format (e.g. 'example-fig.png')"
   ]
  },
  {
   "cell_type": "markdown",
   "metadata": {},
   "source": [
    "## 5. Further reading"
   ]
  },
  {
   "cell_type": "markdown",
   "metadata": {},
   "source": [
    "There are many many python tutorials (e.g. [legend](https://www.w3schools.com/python/python_syntax.asp)), although some of it goes beyond what we need for the class. You are welcome to read as much as you want or come back to it later. The official documentations of [numpy](https://numpy.org/doc/stable/index.html) and [matplotlib](https://matplotlib.org/) are always great source of references as well."
   ]
  }
 ],
 "metadata": {
  "kernelspec": {
   "display_name": "env330",
   "language": "python",
   "name": "env330"
  },
  "language_info": {
   "codemirror_mode": {
    "name": "ipython",
    "version": 3
   },
   "file_extension": ".py",
   "mimetype": "text/x-python",
   "name": "python",
   "nbconvert_exporter": "python",
   "pygments_lexer": "ipython3",
   "version": "3.11.0"
  }
 },
 "nbformat": 4,
 "nbformat_minor": 2
}
